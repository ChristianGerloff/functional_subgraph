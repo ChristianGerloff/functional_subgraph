{
 "cells": [
  {
   "cell_type": "markdown",
   "metadata": {
    "toc": "true"
   },
   "source": [
    "# Table of Contents\n",
    " <p><div class=\"lev1 toc-item\"><a href=\"#Initialize-Environment\" data-toc-modified-id=\"Initialize-Environment-1\"><span class=\"toc-item-num\">1&nbsp;&nbsp;</span>Initialize Environment</a></div><div class=\"lev1 toc-item\"><a href=\"#Load-Toy-Data\" data-toc-modified-id=\"Load-Toy-Data-2\"><span class=\"toc-item-num\">2&nbsp;&nbsp;</span>Load Toy Data</a></div><div class=\"lev1 toc-item\"><a href=\"#Measure-Functional-Connectivity\" data-toc-modified-id=\"Measure-Functional-Connectivity-3\"><span class=\"toc-item-num\">3&nbsp;&nbsp;</span>Measure Functional Connectivity</a></div><div class=\"lev1 toc-item\"><a href=\"#Optimize-Dynamic-Subgraphs-Parameters\" data-toc-modified-id=\"Optimize-Dynamic-Subgraphs-Parameters-4\"><span class=\"toc-item-num\">4&nbsp;&nbsp;</span>Optimize Dynamic Subgraphs Parameters</a></div><div class=\"lev2 toc-item\"><a href=\"#Generate-Cross-Validation-Parameter-Sets\" data-toc-modified-id=\"Generate-Cross-Validation-Parameter-Sets-41\"><span class=\"toc-item-num\">4.1&nbsp;&nbsp;</span>Generate Cross-Validation Parameter Sets</a></div><div class=\"lev2 toc-item\"><a href=\"#Run-NMF-Cross-Validation-Parameter-Sets\" data-toc-modified-id=\"Run-NMF-Cross-Validation-Parameter-Sets-42\"><span class=\"toc-item-num\">4.2&nbsp;&nbsp;</span>Run NMF Cross-Validation Parameter Sets</a></div><div class=\"lev2 toc-item\"><a href=\"#Visualize-Quality-Measures-of-Search-Space\" data-toc-modified-id=\"Visualize-Quality-Measures-of-Search-Space-43\"><span class=\"toc-item-num\">4.3&nbsp;&nbsp;</span>Visualize Quality Measures of Search Space</a></div><div class=\"lev1 toc-item\"><a href=\"#Detect-Dynamic-Subgraphs\" data-toc-modified-id=\"Detect-Dynamic-Subgraphs-5\"><span class=\"toc-item-num\">5&nbsp;&nbsp;</span>Detect Dynamic Subgraphs</a></div><div class=\"lev2 toc-item\"><a href=\"#Stochastic-Factorization-with-Consensus\" data-toc-modified-id=\"Stochastic-Factorization-with-Consensus-51\"><span class=\"toc-item-num\">5.1&nbsp;&nbsp;</span>Stochastic Factorization with Consensus</a></div><div class=\"lev2 toc-item\"><a href=\"#Plot-all-the-subgraphs\" data-toc-modified-id=\"Plot-all-the-subgraphs-52\"><span class=\"toc-item-num\">5.2&nbsp;&nbsp;</span>Plot all the subgraphs</a></div>"
   ]
  },
  {
   "cell_type": "markdown",
   "metadata": {},
   "source": [
    "# Initialize Environment"
   ]
  },
  {
   "cell_type": "code",
   "execution_count": null,
   "metadata": {},
   "outputs": [],
   "source": [
    "from __future__ import division\n",
    "\n",
    "import os\n",
    "os.environ['MKL_NUM_THREADS'] = '1'\n",
    "os.environ['NUMEXPR_NUM_THREADS'] = '1'\n",
    "os.environ['OMP_NUM_THREADS'] = '1'\n",
    "import sys\n",
    "\n",
    "# Data manipulation\n",
    "import numpy as np\n",
    "import scipy.io as io\n",
    "import NMF\n",
    "\n",
    "# Echobase\n",
    "sys.path.append('../Echobase/')\n",
    "import Echobase\n",
    "\n",
    "# Plotting\n",
    "import matplotlib.pyplot as plt\n",
    "import seaborn as sns"
   ]
  },
  {
   "cell_type": "markdown",
   "metadata": {},
   "source": [
    "# Load Toy Data"
   ]
  },
  {
   "cell_type": "code",
   "execution_count": null,
   "metadata": {},
   "outputs": [],
   "source": [
    "# df contains the following keys:\n",
    "#   -- evData contains ECoG with dims: n_sample x n_channels\n",
    "#   -- Fs contains sampling frequency: 1 x 1\n",
    "#   -- channel_lbl contains strings of channel labels with dims: n_channels\n",
    "#   -- channel_ix_soz contains indices of seizure-onset channels: n_soz\n",
    "\n",
    "df = io.loadmat('./ToyData/Seizure_ECoG.mat')\n",
    "evData = df['evData']\n",
    "fs = int(df['Fs'][0,0])\n",
    "n_sample, n_chan = evData.shape"
   ]
  },
  {
   "cell_type": "markdown",
   "metadata": {},
   "source": [
    "# Measure Functional Connectivity"
   ]
  },
  {
   "cell_type": "code",
   "execution_count": null,
   "metadata": {},
   "outputs": [],
   "source": [
    "def compute_dynamic_windows(n_sample, fs, win_dur=1.0, win_shift=1.0):\n",
    "    \"\"\"\n",
    "        Divide samples into bins based on window duration and shift.\n",
    "        \n",
    "        Parameters\n",
    "        ----------\n",
    "            n_sample: int\n",
    "                Number of samples\n",
    "            fs: int\n",
    "                Sampling frequency\n",
    "            win_dur: float\n",
    "                Duration of the dynamic window\n",
    "            win_shift: float\n",
    "                Shift of the dynamic window\n",
    "    \n",
    "        Returns\n",
    "        -------\n",
    "            win_ix: ndarray with dims: (n_win, n_ix)\n",
    "    \"\"\"\n",
    "    \n",
    "    n_samp_per_win = int(fs * win_dur)\n",
    "    n_samp_per_shift = int(fs * win_shift)\n",
    "    \n",
    "    curr_ix = 0\n",
    "    win_ix = []\n",
    "    while (curr_ix+n_samp_per_win) <= n_sample:\n",
    "        win_ix.append(np.arange(curr_ix, curr_ix+n_samp_per_win))\n",
    "        curr_ix += n_samp_per_shift\n",
    "    win_ix = np.array(win_ix)\n",
    "    \n",
    "    return win_ix\n",
    "\n",
    "# Compute dynamic functional connectivity using Echobase\n",
    "adj = []\n",
    "for ix in compute_dynamic_windows(n_sample, fs):\n",
    "    adj.append(Echobase.Pipelines.ecog_network.broadband_conn(evData[ix, :], fs))\n",
    "adj = np.array(adj)\n",
    "\n",
    "# Transform to a configuration matrix (n_window x n_connection)\n",
    "triu_ix, triu_iy = np.triu_indices(n_chan, k=1)\n",
    "A_hat = adj[:, triu_ix, triu_iy]\n",
    "n_win, n_conn = A_hat.shape"
   ]
  },
  {
   "cell_type": "markdown",
   "metadata": {},
   "source": [
    "# Optimize Dynamic Subgraphs Parameters"
   ]
  },
  {
   "cell_type": "markdown",
   "metadata": {},
   "source": [
    "## Generate Cross-Validation Parameter Sets"
   ]
  },
  {
   "cell_type": "code",
   "execution_count": null,
   "metadata": {},
   "outputs": [],
   "source": [
    "def generate_folds(n_win, n_fold):\n",
    "    \"\"\"\n",
    "        Generate folds for cross-validation by randomly dividing the windows\n",
    "        into different groups for train/test-set.\n",
    "        \n",
    "        Parameters\n",
    "        ----------\n",
    "            n_win: int\n",
    "                Number of windows (observations) in the configuration matrix\n",
    "            n_fold: int\n",
    "                Number of folds desired\n",
    "        \n",
    "        Returns\n",
    "        -------\n",
    "            fold_list: list[list]\n",
    "                List of index lists that can be further divided into train\n",
    "                and test sets\n",
    "    \"\"\"\n",
    "\n",
    "    # discard incomplete folds\n",
    "    n_win_per_fold = int(np.floor(n_win / n_fold))  \n",
    "    \n",
    "    win_list = np.arange(n_win)\n",
    "    win_list = np.random.permutation(win_list)\n",
    "    win_list = win_list[:(n_win_per_fold*n_fold)]\n",
    "    win_list = win_list.reshape(n_fold, -1)\n",
    "    fold_list = [list(ff) for ff in win_list]\n",
    "\n",
    "    return fold_list\n",
    "\n",
    "fold_list = generate_folds(n_win, n_fold=5)\n",
    "\n",
    "# Set the bounds of the search space\n",
    "# Random sampling scheme\n",
    "param_search_space = {'rank_range': (2, 10),\n",
    "                      'alpha_range': (0.01, 1.0),\n",
    "                      'beta_range': (0.01, 1.0),\n",
    "                      'n_param': 20}\n",
    "\n",
    "# Get parameter search space\n",
    "# Each sampled parameter set will be evaluated n_fold times\n",
    "param_list = NMF.optimize.gen_random_sampling_paramset(\n",
    "    fold_list=fold_list,\n",
    "    **param_search_space)"
   ]
  },
  {
   "cell_type": "markdown",
   "metadata": {},
   "source": [
    "## Run NMF Cross-Validation Parameter Sets"
   ]
  },
  {
   "cell_type": "code",
   "execution_count": null,
   "metadata": {
    "scrolled": false
   },
   "outputs": [],
   "source": [
    "# **This cell block should be parallelized. Takes time to run**\n",
    "\n",
    "# Produces a list of quality measures for each parameter set in param_list\n",
    "qmeas_list = [NMF.optimize.run_xval_paramset(A_hat, pdict)\n",
    "              for pdict in param_list]"
   ]
  },
  {
   "cell_type": "markdown",
   "metadata": {},
   "source": [
    "## Visualize Quality Measures of Search Space"
   ]
  },
  {
   "cell_type": "code",
   "execution_count": null,
   "metadata": {
    "scrolled": false
   },
   "outputs": [],
   "source": [
    "all_param, opt_param = NMF.optimize.find_optimum_xval_paramset(param_list, qmeas_list, search_pct=5)\n",
    "\n",
    "# Generate quality measure plots\n",
    "for qmeas in ['error', 'pct_sparse_subgraph', 'pct_sparse_coef']:\n",
    "    for param in ['rank', 'alpha', 'beta']:\n",
    "\n",
    "        param_unq = np.unique(all_param[param])\n",
    "        qmeas_mean = [np.mean(all_param[qmeas][all_param[param]==pp]) for pp in param_unq]\n",
    "        \n",
    "        ax_jp = sns.jointplot(all_param[param], all_param[qmeas], kind='kde', \n",
    "                              space=0, n_levels=60, shade_lowest=False)\n",
    "        ax = ax_jp.ax_joint\n",
    "        ax.plot([opt_params[param], opt_params[param]], \n",
    "                [ax.get_ylim()[0], ax.get_ylim()[1]],\n",
    "                lw=1.0, alpha=0.75, linestyle='--')\n",
    "\n",
    "        ax.yaxis.set_ticks_position('left')\n",
    "        ax.xaxis.set_ticks_position('bottom')\n",
    "        ax.set_xlabel(param)\n",
    "        ax.set_ylabel(qmeas)\n",
    "        \n",
    "        plt.show()\n",
    "        plt.close()"
   ]
  },
  {
   "cell_type": "markdown",
   "metadata": {},
   "source": [
    "# Detect Dynamic Subgraphs"
   ]
  },
  {
   "cell_type": "markdown",
   "metadata": {},
   "source": [
    "## Stochastic Factorization with Consensus"
   ]
  },
  {
   "cell_type": "code",
   "execution_count": null,
   "metadata": {
    "scrolled": false
   },
   "outputs": [],
   "source": [
    "def refactor_connection_vector(conn_vec):\n",
    "    n_node = int(np.ceil(np.sqrt(2*len(conn_vec))))\n",
    "    triu_ix, triu_iy = np.triu_indices(n_node, k=1)\n",
    "    \n",
    "    adj = np.zeros((n_node, n_node))\n",
    "    adj[triu_ix, triu_iy] = conn_vec[...]\n",
    "    adj += adj.T\n",
    "    \n",
    "    return adj\n",
    "\n",
    "\n",
    "fac_subgraph, fac_coef, err = NMF.optimize.consensus_nmf(A_hat, n_seed=2, n_proc=1,\n",
    "                                                         opt_alpha=opt_params['alpha'],\n",
    "                                                         opt_beta=opt_params['beta'],\n",
    "                                                         opt_rank=opt_params['rank'])\n",
    "    \n",
    "fac_subgraph = np.array([refactor_connection_vector(subg)\n",
    "                         for subg in fac_subgraph])"
   ]
  },
  {
   "cell_type": "markdown",
   "metadata": {},
   "source": [
    "## Plot all the subgraphs"
   ]
  },
  {
   "cell_type": "code",
   "execution_count": null,
   "metadata": {},
   "outputs": [],
   "source": [
    "n_row = int(np.ceil(np.sqrt(fac_subgraph.shape[0])))\n",
    "n_col = int(np.ceil(fac_subgraph.shape[0] / n_row))\n",
    "\n",
    "plt.figure(figsize=(12,12))\n",
    "for ii in xrange(fac_subgraph.shape[0]):\n",
    "    ax = plt.subplot(n_row, n_col, ii+1)\n",
    "    ax.matshow(fac_subgraph[ii, ...] / fac_subgraph.max(), cmap='rainbow')\n",
    "    ax.set_axis_off()\n",
    "plt.show()    "
   ]
  },
  {
   "cell_type": "code",
   "execution_count": null,
   "metadata": {
    "collapsed": false
   },
   "outputs": [],
   "source": []
  }
 ],
 "metadata": {
  "anaconda-cloud": {},
  "kernelspec": {
   "display_name": "Python 2",
   "language": "python",
   "name": "python2"
  },
  "language_info": {
   "codemirror_mode": {
    "name": "ipython",
    "version": 2
   },
   "file_extension": ".py",
   "mimetype": "text/x-python",
   "name": "python",
   "nbconvert_exporter": "python",
   "pygments_lexer": "ipython2",
   "version": "2.7.13"
  },
  "latex_envs": {
   "LaTeX_envs_menu_present": true,
   "bibliofile": "biblio.bib",
   "cite_by": "apalike",
   "current_citInitial": 1,
   "eqLabelWithNumbers": true,
   "eqNumInitial": 0,
   "labels_anchors": false,
   "latex_user_defs": false,
   "report_style_numbering": false,
   "user_envs_cfg": false
  },
  "toc": {
   "colors": {
    "hover_highlight": "#DAA520",
    "running_highlight": "#FF0000",
    "selected_highlight": "#FFD700"
   },
   "moveMenuLeft": true,
   "nav_menu": {
    "height": "102px",
    "width": "252px"
   },
   "navigate_menu": true,
   "number_sections": true,
   "sideBar": true,
   "threshold": 4,
   "toc_cell": true,
   "toc_number_sections": true,
   "toc_position": {
    "height": "880px",
    "left": "0px",
    "right": "1707px",
    "top": "107px",
    "width": "329px"
   },
   "toc_section_display": "block",
   "toc_threshold": 6,
   "toc_window_display": true
  }
 },
 "nbformat": 4,
 "nbformat_minor": 1
}
